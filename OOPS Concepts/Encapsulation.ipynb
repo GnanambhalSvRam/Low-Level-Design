{
 "cells": [
  {
   "cell_type": "markdown",
   "metadata": {},
   "source": [
    "Private members are prefixed with __ <br>\n",
    "Protected members are prefixed with _ <br>\n",
    "All other members are public members by default <br>"
   ]
  },
  {
   "cell_type": "code",
   "execution_count": 5,
   "metadata": {},
   "outputs": [],
   "source": [
    "class UserAccount:\n",
    "\n",
    "    def __init__(self, account_number, name, password):\n",
    "        self.name = name\n",
    "        self.__account_number = account_number\n",
    "        self.__password = password\n",
    "\n",
    "    def get_account_number(self):\n",
    "        return self.__account_number"
   ]
  },
  {
   "cell_type": "code",
   "execution_count": 6,
   "metadata": {},
   "outputs": [
    {
     "name": "stdout",
     "output_type": "stream",
     "text": [
      "Name = Harry Potter\n",
      "A/C Number = 123456\n"
     ]
    }
   ],
   "source": [
    "user = UserAccount(123456,\"Harry Potter\", 'password@123')\n",
    "print(f'Name = {user.name}')\n",
    "print(f'A/C Number = {user.get_account_number()}')"
   ]
  }
 ],
 "metadata": {
  "kernelspec": {
   "display_name": "Python 3",
   "language": "python",
   "name": "python3"
  },
  "language_info": {
   "codemirror_mode": {
    "name": "ipython",
    "version": 3
   },
   "file_extension": ".py",
   "mimetype": "text/x-python",
   "name": "python",
   "nbconvert_exporter": "python",
   "pygments_lexer": "ipython3",
   "version": "3.12.5"
  }
 },
 "nbformat": 4,
 "nbformat_minor": 2
}
