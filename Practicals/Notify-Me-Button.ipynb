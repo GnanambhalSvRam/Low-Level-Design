{
 "cells": [
  {
   "cell_type": "markdown",
   "metadata": {},
   "source": [
    "Designing the Notify-Me button for an e-commerce website to notify users when a product becomes available <br>\n",
    "Adding thread safety to the User class, while setting the notification type"
   ]
  },
  {
   "cell_type": "code",
   "execution_count": 8,
   "metadata": {},
   "outputs": [],
   "source": [
    "#The Observer\n",
    "import threading\n",
    "\n",
    "class User:\n",
    "    def __init__(self,userID):\n",
    "        self.ID = userID\n",
    "        self.notificationType = None\n",
    "        self.lock = threading.Lock()\n",
    "\n",
    "    def set_notification_type(self,type):\n",
    "        with self.lock:\n",
    "            self.notificationType = type"
   ]
  },
  {
   "cell_type": "code",
   "execution_count": 3,
   "metadata": {},
   "outputs": [],
   "source": [
    "#The Prototype/Interface\n",
    "from abc import ABC,abstractmethod\n",
    "\n",
    "class NotificationType(ABC):\n",
    "    @abstractmethod\n",
    "    def notify(self,message):\n",
    "        pass\n",
    "\n",
    "class Email(NotificationType):\n",
    "    def __init__(self,emailID):\n",
    "        self.emailID = emailID\n",
    "\n",
    "    def notify(self,message):\n",
    "        print(f'\\nMessage: {message}\\nEmail Address: {self.emailID}')\n",
    "\n",
    "class SMS(NotificationType):\n",
    "    def __init__(self,phoneNumber):\n",
    "        self.phoneNumber = phoneNumber\n",
    "\n",
    "    def notify(self,message):\n",
    "        print(f'\\nMessage: {message}\\nPhone Number: {self.phoneNumber}')\n",
    "\n",
    "class AppNotification(NotificationType):\n",
    "    def __init__(self,userID):\n",
    "        self.userID = userID\n",
    "    \n",
    "    def notify(self,message):\n",
    "        print(f'\\nMessage: {message}\\nUser ID: {self.userID}')"
   ]
  },
  {
   "cell_type": "code",
   "execution_count": 6,
   "metadata": {},
   "outputs": [],
   "source": [
    "#The Observable\n",
    "class Product:\n",
    "    def __init__(self,quantity,name):\n",
    "        self.name = name\n",
    "        self.quantity = quantity\n",
    "        self.subscribers = []\n",
    "\n",
    "    def updateQuantity(self,quantity):\n",
    "        if self.quantity == 0:\n",
    "            self.notify_subscribers()\n",
    "        self.quantity += quantity     \n",
    "\n",
    "    def notify_subscribers(self):\n",
    "        for subscriber in self.subscribers:\n",
    "            if subscriber.notificationType is None:\n",
    "                continue\n",
    "            subscriber.notificationType.notify(f\"{self.name} has been restocked!\")\n",
    "\n",
    "    def subscribe(self,userID):\n",
    "        if userID:\n",
    "            self.subscribers.append(userID)\n",
    "    \n",
    "    def unsubscribe(self,userID):\n",
    "        if userID:\n",
    "            self.subscribers.remove(userID)"
   ]
  },
  {
   "cell_type": "code",
   "execution_count": 9,
   "metadata": {},
   "outputs": [
    {
     "name": "stdout",
     "output_type": "stream",
     "text": [
      "\n",
      "Message: Nature's Bounty Biotin 10,000 mcg has been restocked!\n",
      "Email Address: pretty.kapoor123@hotmail.com\n",
      "\n",
      "Message: Nature's Bounty Biotin 10,000 mcg has been restocked!\n",
      "User ID: bunty.talwar\n"
     ]
    }
   ],
   "source": [
    "#The Demo\n",
    "\n",
    "biotinSupplement = Product(0,'Nature\\'s Bounty Biotin 10,000 mcg')\n",
    "\n",
    "user1 = User(\"pretty.kapoor\")\n",
    "user1.set_notification_type(Email('pretty.kapoor123@hotmail.com'))\n",
    "\n",
    "user2 = User(\"naina.singh\")\n",
    "# user2.set_notification_type(SMS(801678925))\n",
    "\n",
    "user3 = User(\"bunty.talwar\")\n",
    "user3.set_notification_type(AppNotification(user3.ID))\n",
    "\n",
    "biotinSupplement.subscribe(user1)\n",
    "biotinSupplement.subscribe(user2)\n",
    "biotinSupplement.subscribe(user3)\n",
    "\n",
    "biotinSupplement.updateQuantity(4)\n",
    "biotinSupplement.updateQuantity(5)"
   ]
  }
 ],
 "metadata": {
  "kernelspec": {
   "display_name": "Python 3",
   "language": "python",
   "name": "python3"
  },
  "language_info": {
   "codemirror_mode": {
    "name": "ipython",
    "version": 3
   },
   "file_extension": ".py",
   "mimetype": "text/x-python",
   "name": "python",
   "nbconvert_exporter": "python",
   "pygments_lexer": "ipython3",
   "version": "3.12.5"
  }
 },
 "nbformat": 4,
 "nbformat_minor": 2
}
