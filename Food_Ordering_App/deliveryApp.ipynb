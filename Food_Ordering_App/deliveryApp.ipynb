{
 "cells": [
  {
   "cell_type": "code",
   "execution_count": 1,
   "metadata": {},
   "outputs": [],
   "source": [
    "from customer import Customer\n",
    "from customerManager import CustomerManager\n",
    "\n",
    "from delivery_agent import DeliveryAgent\n",
    "from deliveryManager import DeliveryAgentManager\n",
    "\n",
    "from restaurant import Restaurant\n",
    "from restaurantManager import RestaurantManager\n",
    "\n",
    "from order import Order\n",
    "from orderManager import OrderManager\n",
    "\n",
    "from location import LOCATION\n",
    "from payment import PAYMENT_MODE"
   ]
  },
  {
   "cell_type": "code",
   "execution_count": 2,
   "metadata": {},
   "outputs": [
    {
     "name": "stdout",
     "output_type": "stream",
     "text": [
      "\n",
      "Customer's Details: \n",
      "UserID: hpotter\n",
      "Name: Harry Potter\n",
      "Phone: 5264276396\n",
      "\n",
      "Customer's Details: \n",
      "UserID: hgranger\n",
      "Name: Hermoine Granger\n",
      "Phone: 80192736453\n"
     ]
    }
   ],
   "source": [
    "#Creating Customers\n",
    "\n",
    "customer1 = Customer('hpotter', \"Harry Potter\", \"5264276396\", LOCATION(16,80))\n",
    "customer2 = Customer('hgranger', \"Hermoine Granger\", \"80192736453\", LOCATION(17,84))\n",
    "\n",
    "customerManager = CustomerManager()\n",
    "customerManager.addCustomers(customer1)\n",
    "customerManager.addCustomers(customer2)\n",
    "\n",
    "customerManager.printCustomers()"
   ]
  },
  {
   "cell_type": "code",
   "execution_count": 3,
   "metadata": {},
   "outputs": [
    {
     "name": "stdout",
     "output_type": "stream",
     "text": [
      "\n",
      "Delivery Agent's Details: \n",
      "UserID: joey.tribianni\n",
      "Name: Joey Tribianni\n",
      "Phone: 8271026532\n",
      "Current Location = (4,5)\n",
      "\n",
      "Delivery Agent's Details: \n",
      "UserID: chandler.bing\n",
      "Name: Chandler Bing\n",
      "Phone: 7263421026\n",
      "Current Location = (9,10)\n",
      "\n",
      "Delivery Agent's Details: \n",
      "UserID: ross.geller\n",
      "Name: Ross Geller\n",
      "Phone: 8017825347\n",
      "Current Location = (-1,13)\n"
     ]
    }
   ],
   "source": [
    "#creating Agents\n",
    "\n",
    "agent1 = DeliveryAgent('joey.tribianni', \"Joey Tribianni\", \"8271026532\")\n",
    "agent2 = DeliveryAgent('chandler.bing', \"Chandler Bing\", \"7263421026\")\n",
    "agent3 = DeliveryAgent('ross.geller', \"Ross Geller\", \"8017825347\")\n",
    "\n",
    "deliveryManager = DeliveryAgentManager()\n",
    "deliveryManager.addDeliveryAgent(agent1)\n",
    "deliveryManager.addDeliveryAgent(agent2)\n",
    "deliveryManager.addDeliveryAgent(agent3)\n",
    "\n",
    "agent1.setLocation(4,5)\n",
    "agent2.setLocation(9,10)\n",
    "agent3.setLocation(-1,13)\n",
    "\n",
    "deliveryManager.printDeliveryAgents()"
   ]
  },
  {
   "cell_type": "code",
   "execution_count": 6,
   "metadata": {},
   "outputs": [],
   "source": [
    "#creating restaurants\n",
    "\n",
    "restaurant_1 = Restaurant(\"res1\", \"Gourmet Hub\", LOCATION(3, 9), \n",
    "                          [[\"Pizza\", 40, 10.99], [\"Pasta\", 30, 8.49], [\"Garlic Bread\", 25, 4.99]])\n",
    "\n",
    "restaurant_2 = Restaurant(\"res2\", \"Tasty Bites\", LOCATION(7, 5), \n",
    "                          [[\"Burger\", 50, 5.99], [\"Pasta\", 30, 7.49], [\"Salad\", 20, 4.99]])\n",
    "\n",
    "restaurant_3 = Restaurant(\"res3\", \"Spicy Delights\", LOCATION(2, 8), \n",
    "                          [[\"Tacos\", 40, 6.99], [\"Nachos\", 25, 5.49], [\"Burrito\", 35, 8.99]])\n",
    "\n",
    "restaurant_4 = Restaurant(\"res4\", \"Sushi Haven\", LOCATION(9, 3), \n",
    "                          [[\"Sushi Roll\", 60, 12.99], [\"Ramen\", 45, 9.99], [\"Miso Soup\", 20, 3.99]])\n",
    "\n",
    "restaurant_5 = Restaurant(\"res5\", \"Dessert Paradise\", LOCATION(4, 6), \n",
    "                          [[\"Cheesecake\", 25, 6.49], [\"Brownie\", 30, 3.99], [\"Ice Cream\", 50, 4.99]])\n",
    "\n",
    "resManager = RestaurantManager()\n",
    "\n",
    "resManager.addRestaurant(restaurant_1)\n",
    "resManager.addRestaurant(restaurant_2)\n",
    "resManager.addRestaurant(restaurant_3)\n",
    "resManager.addRestaurant(restaurant_4)\n",
    "resManager.addRestaurant(restaurant_5)"
   ]
  },
  {
   "cell_type": "code",
   "execution_count": 7,
   "metadata": {},
   "outputs": [
    {
     "name": "stdout",
     "output_type": "stream",
     "text": [
      "Welcome, Harry Potter! Here's a list of restaurants you can choose from: \n",
      "\n",
      "Gourmet Hub @ (3,9). We serve [['Pizza', 40, 10.99], ['Pasta', 30, 8.49], ['Garlic Bread', 25, 4.99]].\n",
      "\n",
      "Tasty Bites @ (7,5). We serve [['Burger', 50, 5.99], ['Pasta', 30, 7.49], ['Salad', 20, 4.99]].\n",
      "\n",
      "Spicy Delights @ (2,8). We serve [['Tacos', 40, 6.99], ['Nachos', 25, 5.49], ['Burrito', 35, 8.99]].\n",
      "\n",
      "Sushi Haven @ (9,3). We serve [['Sushi Roll', 60, 12.99], ['Ramen', 45, 9.99], ['Miso Soup', 20, 3.99]].\n",
      "\n",
      "Dessert Paradise @ (4,6). We serve [['Cheesecake', 25, 6.49], ['Brownie', 30, 3.99], ['Ice Cream', 50, 4.99]].\n",
      "\n",
      "Redirecting user to Netbanking payment portal...\n",
      "Total Amount = $45.96\n",
      "\n",
      "Order Details:\n",
      "Harry Potter ordered [['Sushi Roll', 2, 12.99], ['Ramen', 2, 9.99]] from Sushi Haven.\n",
      "STATUS: STATUS.PENDING\n",
      "Delivered by: Joey Tribianni\n",
      "Total price = $45.96\n",
      "Payment Method: NET_BANKING\n",
      "\n",
      "\n",
      "Thanks for ordering with us!\n"
     ]
    }
   ],
   "source": [
    "#from customer_1's perspective\n",
    "\n",
    "orderManager = OrderManager()\n",
    "customer = customerManager.getCustomerDetails('hpotter')\n",
    "\n",
    "#Step 1: Display restaurants to customers based on the customer's location\n",
    "chosen = None\n",
    "restaurants = orderManager.displayRestaurants(customer.getLocation())\n",
    "\n",
    "print(f'Welcome, {customer.getName()}! Here\\'s a list of restaurants you can choose from: ')\n",
    "for id, restaurant in restaurants.items():\n",
    "    restaurant.getDetails()\n",
    "    if id == 'res4': #Assuming the customer choses restaurant 4\n",
    "        chosen = restaurant\n",
    "\n",
    "#Step 2: Customer will place an order i.e., select food items\n",
    "order = orderManager.create_order(customer, customer.getLocation(), PAYMENT_MODE.NET_BANKING, chosen, [[\"Sushi Roll\", 2, 12.99], [\"Ramen\", 2, 9.99]])\n",
    "\n",
    "#Step 3: Print Order Details\n",
    "order.printOrderDetails()"
   ]
  }
 ],
 "metadata": {
  "kernelspec": {
   "display_name": "Python 3",
   "language": "python",
   "name": "python3"
  },
  "language_info": {
   "codemirror_mode": {
    "name": "ipython",
    "version": 3
   },
   "file_extension": ".py",
   "mimetype": "text/x-python",
   "name": "python",
   "nbconvert_exporter": "python",
   "pygments_lexer": "ipython3",
   "version": "3.12.5"
  }
 },
 "nbformat": 4,
 "nbformat_minor": 2
}
