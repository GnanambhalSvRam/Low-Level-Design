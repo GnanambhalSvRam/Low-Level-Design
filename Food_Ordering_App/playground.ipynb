{
 "cells": [
  {
   "cell_type": "code",
   "execution_count": 13,
   "metadata": {},
   "outputs": [],
   "source": [
    "from customer import Customer\n",
    "from collections import defaultdict\n",
    "\n",
    "class CustomerManager:\n",
    "    __instance = None\n",
    "\n",
    "    def __new__(cls):\n",
    "        if cls.__instance is None:\n",
    "            cls.__instance = super(CustomerManager, cls).__new__(cls)\n",
    "            cls.__instance.customers = {}  \n",
    "        return cls.__instance\n",
    "        \n",
    "    def addCustomers(self, customer: Customer):\n",
    "        self.customers[customer.id] = customer\n",
    "\n",
    "    def printCustomers(self):\n",
    "        for id, customer in self.customers.items():\n",
    "            customer.getDetails()\n"
   ]
  },
  {
   "cell_type": "code",
   "execution_count": 22,
   "metadata": {},
   "outputs": [],
   "source": [
    "from delivery_agent import DeliveryAgent\n",
    "\n",
    "class DeliveryAgentManager():\n",
    "    __instance = None\n",
    "\n",
    "    def __new__(cls):\n",
    "        if cls.__instance == None:\n",
    "            cls.__instance = super(DeliveryAgentManager, cls).__new__(cls)\n",
    "            cls.__instance.agents = {}\n",
    "        return cls.__instance\n",
    "    \n",
    "    def addDeliveryAgent(self, agent:DeliveryAgent):\n",
    "        self.agents[agent.getDeliveryAgentID()] = agent\n",
    "\n",
    "    def getDeliveryAgent(self,id) -> DeliveryAgent:\n",
    "        return self.agents.get(id,None)\n",
    "    \n",
    "    def printDeliveryAgents(self):\n",
    "        for agent in self.agents.values():\n",
    "            agent.getDetails()\n"
   ]
  },
  {
   "cell_type": "code",
   "execution_count": null,
   "metadata": {},
   "outputs": [],
   "source": [
    "from customer import Customer\n",
    "from delivery_agent import DeliveryAgent\n",
    "\n",
    "cus_manager = CustomerManager()\n",
    "del_manager = DeliveryAgentManager()\n",
    "\n",
    "customer1 = Customer('gshiva', \"Gnanambhal Shivarraman\", \"4254276396\")\n",
    "customer2 = Customer('pshiva', \"Pethaa Shivarraman\", \"80192736453\")\n",
    "\n",
    "agent1 = DeliveryAgent('rohit', 'Rohit Khurrana', \"12345678890\")\n",
    "agent2 = DeliveryAgent('nishi.takur', 'Nishi Takur', \"618271615\")\n",
    "agent3 = DeliveryAgent('rahul.shetty', 'Rahul Shetty', \"7826351410\")\n",
    "\n",
    "cus_manager.addCustomers(customer1)\n",
    "cus_manager.addCustomers(customer2)\n",
    "\n",
    "del_manager.addDeliveryAgent(agent1)\n",
    "del_manager.addDeliveryAgent(agent2)\n",
    "del_manager.addDeliveryAgent(agent3)\n",
    "\n",
    "del_manager.printDeliveryAgents()\n"
   ]
  },
  {
   "cell_type": "code",
   "execution_count": 5,
   "metadata": {},
   "outputs": [
    {
     "name": "stdout",
     "output_type": "stream",
     "text": [
      "2\n"
     ]
    }
   ],
   "source": [
    "from status import STATUS\n",
    "\n",
    "st = STATUS.CONFIRMED.value\n",
    "print(st)"
   ]
  },
  {
   "cell_type": "code",
   "execution_count": 15,
   "metadata": {},
   "outputs": [],
   "source": [
    "from strategy.payment.paymentStrategy import PaymentStrategy\n",
    "\n",
    "payment = PaymentStrategy() \n",
    "payment.pay(amount = 17.50)"
   ]
  },
  {
   "cell_type": "markdown",
   "metadata": {},
   "source": [
    "I attempted to create an object of the PaymentStrategy class which is supposed to be an interface and the pay() method has an abstract method decorator. I wonder why I'm allowed to instantiate this class and call this abstract function!"
   ]
  },
  {
   "cell_type": "code",
   "execution_count": 14,
   "metadata": {},
   "outputs": [
    {
     "name": "stdout",
     "output_type": "stream",
     "text": [
      "/Users/msd/Low-Level-Design/Food_Ordering_App/strategy/payment/paymentStrategy.py\n"
     ]
    }
   ],
   "source": [
    "import inspect\n",
    "print(inspect.getfile(PaymentStrategy))"
   ]
  },
  {
   "cell_type": "code",
   "execution_count": null,
   "metadata": {},
   "outputs": [],
   "source": []
  }
 ],
 "metadata": {
  "kernelspec": {
   "display_name": "Python 3",
   "language": "python",
   "name": "python3"
  },
  "language_info": {
   "codemirror_mode": {
    "name": "ipython",
    "version": 3
   },
   "file_extension": ".py",
   "mimetype": "text/x-python",
   "name": "python",
   "nbconvert_exporter": "python",
   "pygments_lexer": "ipython3",
   "version": "3.12.5"
  }
 },
 "nbformat": 4,
 "nbformat_minor": 2
}
