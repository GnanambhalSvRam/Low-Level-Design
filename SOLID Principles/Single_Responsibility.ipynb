{
 "cells": [
  {
   "cell_type": "code",
   "execution_count": 1,
   "metadata": {},
   "outputs": [],
   "source": [
    "class Square():\n",
    "    def __init__(self,length):\n",
    "        self.length = length"
   ]
  },
  {
   "cell_type": "code",
   "execution_count": 2,
   "metadata": {},
   "outputs": [],
   "source": [
    "class Circle():\n",
    "    def __init__(self,radius):\n",
    "        self.radius = radius"
   ]
  },
  {
   "cell_type": "code",
   "execution_count": 3,
   "metadata": {},
   "outputs": [],
   "source": [
    "class AreaCalculator():\n",
    "    def __init__(self, shapes=None):\n",
    "        if shapes is None:\n",
    "            shapes = []\n",
    "        self.shapes = shapes\n",
    "\n",
    "    def calculate_area(self):\n",
    "        areas = []\n",
    "        for shape in self.shapes:\n",
    "            if isinstance(shape,Square):\n",
    "                areas.append(shape.length * shape.length)\n",
    "            elif isinstance(shape,Circle):\n",
    "                areas.append(3.14 * shape.radius ** 2)\n",
    "\n",
    "    def print_output(self):\n",
    "        for area in self.areas:\n",
    "            print(area)\n",
    "            "
   ]
  },
  {
   "cell_type": "markdown",
   "metadata": {},
   "source": [
    "Single-responsibility Principle (SRP) states: <br>\n",
    "A class should have one and only one reason to change, meaning that a class should have only one job. <br>\n",
    "\n",
    "In the above class AreaCalculator, the class not just calculates the area but also prints the output. According to the Single Responsibility Principle, it is ideal to separate unrelated functionalities from the class. This would be useful when you want to modify the functionalities of that unrelated class. So, a new class PrintOutput can be formed.  "
   ]
  },
  {
   "cell_type": "code",
   "execution_count": 4,
   "metadata": {},
   "outputs": [],
   "source": [
    "class AreaCalculator():\n",
    "    def __init__(self, shapes=None):\n",
    "        if shapes is None:\n",
    "            shapes = []\n",
    "        self.shapes = shapes\n",
    "\n",
    "    def calculate_area(self):\n",
    "        areas = []\n",
    "        for shape in self.shapes:\n",
    "            if isinstance(shape,Square):\n",
    "                areas.append(shape.length * shape.length)\n",
    "            elif isinstance(shape,Circle):\n",
    "                areas.append(3.14 * shape.radius ** 2)\n",
    "        return areas"
   ]
  },
  {
   "cell_type": "code",
   "execution_count": 5,
   "metadata": {},
   "outputs": [],
   "source": [
    "class PrintOutput():\n",
    "    def __init__(self, areas):\n",
    "        self.areas = areas\n",
    "\n",
    "    def print_json(self):\n",
    "        #prints in json format\n",
    "        print('JSON Format')\n",
    "\n",
    "    def print_html(self):\n",
    "        #prints in html format\n",
    "        print('HTML Format')"
   ]
  },
  {
   "cell_type": "code",
   "execution_count": 12,
   "metadata": {},
   "outputs": [
    {
     "name": "stdout",
     "output_type": "stream",
     "text": [
      "JSON Format\n",
      "HTML Format\n"
     ]
    }
   ],
   "source": [
    "shapes = [\n",
    "    Circle(2),\n",
    "    Circle(3),\n",
    "    ]\n",
    "\n",
    "areaObj = AreaCalculator(shapes=shapes)\n",
    "areas = areaObj.calculate_area()\n",
    "\n",
    "printObj = PrintOutput(areas=areas)\n",
    "printObj.print_json()\n",
    "printObj.print_html()"
   ]
  },
  {
   "cell_type": "code",
   "execution_count": null,
   "metadata": {},
   "outputs": [],
   "source": []
  }
 ],
 "metadata": {
  "kernelspec": {
   "display_name": "Python 3",
   "language": "python",
   "name": "python3"
  },
  "language_info": {
   "codemirror_mode": {
    "name": "ipython",
    "version": 3
   },
   "file_extension": ".py",
   "mimetype": "text/x-python",
   "name": "python",
   "nbconvert_exporter": "python",
   "pygments_lexer": "ipython3",
   "version": "3.12.5"
  }
 },
 "nbformat": 4,
 "nbformat_minor": 2
}
