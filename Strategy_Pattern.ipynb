{
 "cells": [
  {
   "cell_type": "markdown",
   "metadata": {},
   "source": [
    "🎯 Strategy Pattern - Summary <br>\n",
    "\n",
    "The Strategy Pattern is a behavioral design pattern that allows you to define a family of algorithms, encapsulate them in separate classes, and make them interchangeable at runtime without modifying the client code. <br>\n",
    "\n",
    "📌 Key Concepts: <br>\n",
    "\t1.\tStrategy Interface → Defines a blueprint for all algorithms (but has no implementation). <br>\n",
    "\t2.\tConcrete Strategies → Different implementations of the algorithm. <br>\n",
    "\t3.\tContext Class → Uses a strategy and delegates execution to it. <br>\n",
    "\n",
    "🚀 Why Use It? <br>\n",
    "\n",
    "✅ Avoids if-else/switch-case hell <br>\n",
    "✅ Follows the Open/Closed Principle (extend without modifying existing code) <br>\n",
    "✅ Makes algorithms interchangeable at runtime <br>\n",
    "✅ Improves code maintainability and flexibility <br>\n",
    "\n",
    "🔍 Real-World Example <br><br>\n",
    "\t•\tPayment system where a user can choose PayPal, Credit Card, or Google Pay dynamically. <br>\n",
    "\t•\tSorting algorithms where you can switch between QuickSort, MergeSort, or BubbleSort. <br>"
   ]
  },
  {
   "cell_type": "code",
   "execution_count": 16,
   "metadata": {},
   "outputs": [],
   "source": [
    "from abc import ABC, abstractmethod\n",
    "\n",
    "class PaymentStrategy(ABC):\n",
    "    @abstractmethod\n",
    "    def pay(self,amount):\n",
    "        pass"
   ]
  },
  {
   "cell_type": "code",
   "execution_count": 5,
   "metadata": {},
   "outputs": [],
   "source": [
    "class PayPal(PaymentStrategy):\n",
    "    def __init__(self,email):\n",
    "        self.email = email\n",
    "\n",
    "    def pay(self,amount):\n",
    "        print(f'Paid ${amount} using PayPal {self.email}')"
   ]
  },
  {
   "cell_type": "code",
   "execution_count": 6,
   "metadata": {},
   "outputs": [],
   "source": [
    "class CreditCard(PaymentStrategy):\n",
    "    def __init__(self,accNumber):\n",
    "        self.accNumber = accNumber\n",
    "\n",
    "    def pay(self,amount):\n",
    "        print(f'Paid ${amount} using Credit Card {self.accNumber}')"
   ]
  },
  {
   "cell_type": "code",
   "execution_count": 14,
   "metadata": {},
   "outputs": [],
   "source": [
    "class GooglePay(PaymentStrategy):\n",
    "    def __init__(self,phone):\n",
    "        self.phone = phone\n",
    "\n",
    "    def pay(self,amount):\n",
    "        print(f'Paid ${amount} using GooglePay {self.phone}')"
   ]
  },
  {
   "cell_type": "code",
   "execution_count": 15,
   "metadata": {},
   "outputs": [],
   "source": [
    "# Context class\n",
    "class ShoppingCart:\n",
    "    def __init__(self):\n",
    "        self.payment_strategy = None\n",
    "\n",
    "    # Allow changing strategy dynamically\n",
    "    def set_payment_strategy(self, payment_strategy):\n",
    "        self.payment_strategy = payment_strategy\n",
    "\n",
    "    def checkout(self, amount):\n",
    "        if not self.payment_strategy:\n",
    "            raise ValueError(\"Payment strategy not set!\")\n",
    "        self.payment_strategy.pay(amount)"
   ]
  },
  {
   "cell_type": "code",
   "execution_count": 13,
   "metadata": {},
   "outputs": [
    {
     "name": "stdout",
     "output_type": "stream",
     "text": [
      "Paid $25000 using PayPal abc@example.com\n",
      "Paid $35 using PayPal 8015672534\n",
      "Paid $10000 using Credit Card 6019263589007261\n"
     ]
    }
   ],
   "source": [
    "cart = ShoppingCart()\n",
    "\n",
    "cart.set_payment_strategy(PayPal(\"abc@example.com\"))\n",
    "cart.checkout(25000)\n",
    "\n",
    "cart.set_payment_strategy(GooglePay(8015672534))\n",
    "cart.checkout(35)\n",
    "\n",
    "cart.set_payment_strategy(CreditCard(6019263589007261))\n",
    "cart.checkout(10000)"
   ]
  }
 ],
 "metadata": {
  "kernelspec": {
   "display_name": "Python 3",
   "language": "python",
   "name": "python3"
  },
  "language_info": {
   "codemirror_mode": {
    "name": "ipython",
    "version": 3
   },
   "file_extension": ".py",
   "mimetype": "text/x-python",
   "name": "python",
   "nbconvert_exporter": "python",
   "pygments_lexer": "ipython3",
   "version": "3.12.5"
  }
 },
 "nbformat": 4,
 "nbformat_minor": 2
}
