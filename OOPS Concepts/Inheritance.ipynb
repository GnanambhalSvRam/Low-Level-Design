{
 "cells": [
  {
   "cell_type": "code",
   "execution_count": 22,
   "metadata": {},
   "outputs": [],
   "source": [
    "class Vehicle:\n",
    "    def __init__(self,brand,year):\n",
    "        self.brand = brand\n",
    "        self.year = year\n",
    "\n",
    "    def start_engine(self):\n",
    "        print(f'Engine Started...')\n",
    "\n",
    "    def stop_engine(self):\n",
    "        print(f'Engine Stopped!')"
   ]
  },
  {
   "cell_type": "code",
   "execution_count": 25,
   "metadata": {},
   "outputs": [],
   "source": [
    "class Car(Vehicle):\n",
    "    def __init__(self, brand, year,name,doors):\n",
    "        super().__init__(brand, year)\n",
    "        self.name = name\n",
    "        self.doors = doors\n",
    "\n",
    "    def description(self):\n",
    "        print(f\"{self.year} {self.brand} {self.name} with {self.doors} doors\")"
   ]
  },
  {
   "cell_type": "code",
   "execution_count": 26,
   "metadata": {},
   "outputs": [
    {
     "name": "stdout",
     "output_type": "stream",
     "text": [
      "2023 Toyota Camry with 4 doors\n",
      "Engine Started...\n",
      "Engine Stopped!\n"
     ]
    }
   ],
   "source": [
    "car1 = Car('Toyota', 2023, 'Camry', 4)\n",
    "car1.description()\n",
    "car1.start_engine()\n",
    "car1.stop_engine()"
   ]
  },
  {
   "cell_type": "code",
   "execution_count": null,
   "metadata": {},
   "outputs": [],
   "source": []
  }
 ],
 "metadata": {
  "language_info": {
   "name": "python"
  }
 },
 "nbformat": 4,
 "nbformat_minor": 2
}
